{
 "cells": [
  {
   "cell_type": "markdown",
   "metadata": {},
   "source": [
    "# list"
   ]
  },
  {
   "cell_type": "code",
   "execution_count": 36,
   "metadata": {},
   "outputs": [],
   "source": [
    "list_data<- list(\"red\",\"green\",c(3,4,5),TRUE,115.1,114)"
   ]
  },
  {
   "cell_type": "code",
   "execution_count": 3,
   "metadata": {},
   "outputs": [
    {
     "name": "stdout",
     "output_type": "stream",
     "text": [
      "List of 6\n",
      " $ : chr \"red\"\n",
      " $ : chr \"green\"\n",
      " $ : num [1:3] 3 4 5\n",
      " $ : logi TRUE\n",
      " $ : num 115\n",
      " $ : num 114\n"
     ]
    },
    {
     "data": {
      "text/html": [
       "6"
      ],
      "text/latex": [
       "6"
      ],
      "text/markdown": [
       "6"
      ],
      "text/plain": [
       "[1] 6"
      ]
     },
     "metadata": {},
     "output_type": "display_data"
    },
    {
     "data": {
      "text/plain": [
       "NULL"
      ]
     },
     "metadata": {},
     "output_type": "display_data"
    },
    {
     "data": {
      "text/html": [
       "'list'"
      ],
      "text/latex": [
       "'list'"
      ],
      "text/markdown": [
       "'list'"
      ],
      "text/plain": [
       "[1] \"list\""
      ]
     },
     "metadata": {},
     "output_type": "display_data"
    }
   ],
   "source": [
    "str(list_data)\n",
    "length(list_data)\n",
    "dim(list_data)\n",
    "typeof(list_data)"
   ]
  },
  {
   "cell_type": "code",
   "execution_count": 16,
   "metadata": {},
   "outputs": [
    {
     "name": "stdout",
     "output_type": "stream",
     "text": [
      "[1] 3\n"
     ]
    }
   ],
   "source": [
    "names(list_data)<- c(\"frst\",\"secnd\",\"third\",\"fourth\",\"five\",\"sixth\")\n",
    "print(list_data$third[1])"
   ]
  },
  {
   "cell_type": "code",
   "execution_count": 19,
   "metadata": {},
   "outputs": [
    {
     "data": {
      "text/html": [
       "'115.1 == 114'"
      ],
      "text/latex": [
       "'115.1 == 114'"
      ],
      "text/markdown": [
       "'115.1 == 114'"
      ],
      "text/plain": [
       "[1] \"115.1 == 114\""
      ]
     },
     "metadata": {},
     "output_type": "display_data"
    }
   ],
   "source": [
    "#paste option\n",
    "paste(list_data$five, \"==\", list_data$sixth)"
   ]
  },
  {
   "cell_type": "code",
   "execution_count": 37,
   "metadata": {},
   "outputs": [
    {
     "data": {
      "text/html": [
       "<dl>\n",
       "\t<dt>$frst</dt>\n",
       "\t\t<dd>'red'</dd>\n",
       "\t<dt>$secnd</dt>\n",
       "\t\t<dd>'green'</dd>\n",
       "\t<dt>$third</dt>\n",
       "\t\t<dd><style>\n",
       ".list-inline {list-style: none; margin:0; padding: 0}\n",
       ".list-inline>li {display: inline-block}\n",
       ".list-inline>li:not(:last-child)::after {content: \"\\00b7\"; padding: 0 .5ex}\n",
       "</style>\n",
       "<ol class=list-inline><li>3</li><li>4</li><li>5</li></ol>\n",
       "</dd>\n",
       "\t<dt>$fourth</dt>\n",
       "\t\t<dd>TRUE</dd>\n",
       "\t<dt>$five</dt>\n",
       "\t\t<dd>115.1</dd>\n",
       "\t<dt>$sixth</dt>\n",
       "\t\t<dd>114</dd>\n",
       "\t<dt>$seventh</dt>\n",
       "\t\t<dd>'new element'</dd>\n",
       "</dl>\n"
      ],
      "text/latex": [
       "\\begin{description}\n",
       "\\item[\\$frst] 'red'\n",
       "\\item[\\$secnd] 'green'\n",
       "\\item[\\$third] \\begin{enumerate*}\n",
       "\\item 3\n",
       "\\item 4\n",
       "\\item 5\n",
       "\\end{enumerate*}\n",
       "\n",
       "\\item[\\$fourth] TRUE\n",
       "\\item[\\$five] 115.1\n",
       "\\item[\\$sixth] 114\n",
       "\\item[\\$seventh] 'new element'\n",
       "\\end{description}\n"
      ],
      "text/markdown": [
       "$frst\n",
       ":   'red'\n",
       "$secnd\n",
       ":   'green'\n",
       "$third\n",
       ":   1. 3\n",
       "2. 4\n",
       "3. 5\n",
       "\n",
       "\n",
       "\n",
       "$fourth\n",
       ":   TRUE\n",
       "$five\n",
       ":   115.1\n",
       "$sixth\n",
       ":   114\n",
       "$seventh\n",
       ":   'new element'\n",
       "\n",
       "\n"
      ],
      "text/plain": [
       "$frst\n",
       "[1] \"red\"\n",
       "\n",
       "$secnd\n",
       "[1] \"green\"\n",
       "\n",
       "$third\n",
       "[1] 3 4 5\n",
       "\n",
       "$fourth\n",
       "[1] TRUE\n",
       "\n",
       "$five\n",
       "[1] 115.1\n",
       "\n",
       "$sixth\n",
       "[1] 114\n",
       "\n",
       "$seventh\n",
       "[1] \"new element\"\n"
      ]
     },
     "metadata": {},
     "output_type": "display_data"
    }
   ],
   "source": [
    "list_data[7]<- \"new element\"\n",
    "names(list_data)<- c(\"frst\",\"secnd\",\"third\",\"fourth\",\"five\",\"sixth\",\"seventh\")\n",
    "list_data"
   ]
  },
  {
   "cell_type": "code",
   "execution_count": 38,
   "metadata": {},
   "outputs": [
    {
     "data": {
      "text/html": [
       "<dl>\n",
       "\t<dt>$frst</dt>\n",
       "\t\t<dd>'red'</dd>\n",
       "\t<dt>$secnd</dt>\n",
       "\t\t<dd>'green'</dd>\n",
       "\t<dt>$third</dt>\n",
       "\t\t<dd><style>\n",
       ".list-inline {list-style: none; margin:0; padding: 0}\n",
       ".list-inline>li {display: inline-block}\n",
       ".list-inline>li:not(:last-child)::after {content: \"\\00b7\"; padding: 0 .5ex}\n",
       "</style>\n",
       "<ol class=list-inline><li>3</li><li>4</li><li>5</li></ol>\n",
       "</dd>\n",
       "\t<dt>$fourth</dt>\n",
       "\t\t<dd>'updated element'</dd>\n",
       "\t<dt>$five</dt>\n",
       "\t\t<dd>115.1</dd>\n",
       "\t<dt>$sixth</dt>\n",
       "\t\t<dd>114</dd>\n",
       "\t<dt>$seventh</dt>\n",
       "\t\t<dd>'new element'</dd>\n",
       "</dl>\n"
      ],
      "text/latex": [
       "\\begin{description}\n",
       "\\item[\\$frst] 'red'\n",
       "\\item[\\$secnd] 'green'\n",
       "\\item[\\$third] \\begin{enumerate*}\n",
       "\\item 3\n",
       "\\item 4\n",
       "\\item 5\n",
       "\\end{enumerate*}\n",
       "\n",
       "\\item[\\$fourth] 'updated element'\n",
       "\\item[\\$five] 115.1\n",
       "\\item[\\$sixth] 114\n",
       "\\item[\\$seventh] 'new element'\n",
       "\\end{description}\n"
      ],
      "text/markdown": [
       "$frst\n",
       ":   'red'\n",
       "$secnd\n",
       ":   'green'\n",
       "$third\n",
       ":   1. 3\n",
       "2. 4\n",
       "3. 5\n",
       "\n",
       "\n",
       "\n",
       "$fourth\n",
       ":   'updated element'\n",
       "$five\n",
       ":   115.1\n",
       "$sixth\n",
       ":   114\n",
       "$seventh\n",
       ":   'new element'\n",
       "\n",
       "\n"
      ],
      "text/plain": [
       "$frst\n",
       "[1] \"red\"\n",
       "\n",
       "$secnd\n",
       "[1] \"green\"\n",
       "\n",
       "$third\n",
       "[1] 3 4 5\n",
       "\n",
       "$fourth\n",
       "[1] \"updated element\"\n",
       "\n",
       "$five\n",
       "[1] 115.1\n",
       "\n",
       "$sixth\n",
       "[1] 114\n",
       "\n",
       "$seventh\n",
       "[1] \"new element\"\n"
      ]
     },
     "metadata": {},
     "output_type": "display_data"
    }
   ],
   "source": [
    "list_data[4]<- \"updated element\"\n",
    "list_data"
   ]
  },
  {
   "cell_type": "code",
   "execution_count": 39,
   "metadata": {},
   "outputs": [
    {
     "data": {
      "text/html": [
       "<dl>\n",
       "\t<dt>$frst</dt>\n",
       "\t\t<dd>'red'</dd>\n",
       "\t<dt>$secnd</dt>\n",
       "\t\t<dd>'green'</dd>\n",
       "\t<dt>$third</dt>\n",
       "\t\t<dd><style>\n",
       ".list-inline {list-style: none; margin:0; padding: 0}\n",
       ".list-inline>li {display: inline-block}\n",
       ".list-inline>li:not(:last-child)::after {content: \"\\00b7\"; padding: 0 .5ex}\n",
       "</style>\n",
       "<ol class=list-inline><li>3</li><li>4</li><li>5</li></ol>\n",
       "</dd>\n",
       "\t<dt>$fourth</dt>\n",
       "\t\t<dd>'updated element'</dd>\n",
       "\t<dt>$sixth</dt>\n",
       "\t\t<dd>114</dd>\n",
       "\t<dt>$seventh</dt>\n",
       "\t\t<dd>'new element'</dd>\n",
       "</dl>\n"
      ],
      "text/latex": [
       "\\begin{description}\n",
       "\\item[\\$frst] 'red'\n",
       "\\item[\\$secnd] 'green'\n",
       "\\item[\\$third] \\begin{enumerate*}\n",
       "\\item 3\n",
       "\\item 4\n",
       "\\item 5\n",
       "\\end{enumerate*}\n",
       "\n",
       "\\item[\\$fourth] 'updated element'\n",
       "\\item[\\$sixth] 114\n",
       "\\item[\\$seventh] 'new element'\n",
       "\\end{description}\n"
      ],
      "text/markdown": [
       "$frst\n",
       ":   'red'\n",
       "$secnd\n",
       ":   'green'\n",
       "$third\n",
       ":   1. 3\n",
       "2. 4\n",
       "3. 5\n",
       "\n",
       "\n",
       "\n",
       "$fourth\n",
       ":   'updated element'\n",
       "$sixth\n",
       ":   114\n",
       "$seventh\n",
       ":   'new element'\n",
       "\n",
       "\n"
      ],
      "text/plain": [
       "$frst\n",
       "[1] \"red\"\n",
       "\n",
       "$secnd\n",
       "[1] \"green\"\n",
       "\n",
       "$third\n",
       "[1] 3 4 5\n",
       "\n",
       "$fourth\n",
       "[1] \"updated element\"\n",
       "\n",
       "$sixth\n",
       "[1] 114\n",
       "\n",
       "$seventh\n",
       "[1] \"new element\"\n"
      ]
     },
     "metadata": {},
     "output_type": "display_data"
    }
   ],
   "source": [
    "list_data[5]<- NULL\n",
    "list_data"
   ]
  },
  {
   "cell_type": "code",
   "execution_count": 40,
   "metadata": {},
   "outputs": [
    {
     "data": {
      "text/html": [
       "<dl>\n",
       "\t<dt>$frst</dt>\n",
       "\t\t<dd>'red'</dd>\n",
       "\t<dt>$secnd</dt>\n",
       "\t\t<dd>'green'</dd>\n",
       "\t<dt>$third</dt>\n",
       "\t\t<dd><style>\n",
       ".list-inline {list-style: none; margin:0; padding: 0}\n",
       ".list-inline>li {display: inline-block}\n",
       ".list-inline>li:not(:last-child)::after {content: \"\\00b7\"; padding: 0 .5ex}\n",
       "</style>\n",
       "<ol class=list-inline><li>3</li><li>4</li><li>5</li></ol>\n",
       "</dd>\n",
       "\t<dt>$fourth</dt>\n",
       "\t\t<dd>'updated element'</dd>\n",
       "\t<dt>$sixth</dt>\n",
       "\t\t<dd>114</dd>\n",
       "\t<dt>$seventh</dt>\n",
       "\t\t<dd>'new element'</dd>\n",
       "</dl>\n"
      ],
      "text/latex": [
       "\\begin{description}\n",
       "\\item[\\$frst] 'red'\n",
       "\\item[\\$secnd] 'green'\n",
       "\\item[\\$third] \\begin{enumerate*}\n",
       "\\item 3\n",
       "\\item 4\n",
       "\\item 5\n",
       "\\end{enumerate*}\n",
       "\n",
       "\\item[\\$fourth] 'updated element'\n",
       "\\item[\\$sixth] 114\n",
       "\\item[\\$seventh] 'new element'\n",
       "\\end{description}\n"
      ],
      "text/markdown": [
       "$frst\n",
       ":   'red'\n",
       "$secnd\n",
       ":   'green'\n",
       "$third\n",
       ":   1. 3\n",
       "2. 4\n",
       "3. 5\n",
       "\n",
       "\n",
       "\n",
       "$fourth\n",
       ":   'updated element'\n",
       "$sixth\n",
       ":   114\n",
       "$seventh\n",
       ":   'new element'\n",
       "\n",
       "\n"
      ],
      "text/plain": [
       "$frst\n",
       "[1] \"red\"\n",
       "\n",
       "$secnd\n",
       "[1] \"green\"\n",
       "\n",
       "$third\n",
       "[1] 3 4 5\n",
       "\n",
       "$fourth\n",
       "[1] \"updated element\"\n",
       "\n",
       "$sixth\n",
       "[1] 114\n",
       "\n",
       "$seventh\n",
       "[1] \"new element\"\n"
      ]
     },
     "metadata": {},
     "output_type": "display_data"
    }
   ],
   "source": [
    "list_data"
   ]
  }
 ],
 "metadata": {
  "kernelspec": {
   "display_name": "R",
   "language": "R",
   "name": "ir"
  },
  "language_info": {
   "codemirror_mode": "r",
   "file_extension": ".r",
   "mimetype": "text/x-r-source",
   "name": "R",
   "pygments_lexer": "r",
   "version": "4.0.0"
  }
 },
 "nbformat": 4,
 "nbformat_minor": 4
}
