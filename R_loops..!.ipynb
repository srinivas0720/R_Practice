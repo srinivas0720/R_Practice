{
 "cells": [
  {
   "cell_type": "code",
   "execution_count": null,
   "metadata": {},
   "outputs": [],
   "source": [
    "# IF-else\n",
    "# ifelse\n",
    "# for loop\n",
    "# while loop\n",
    "# Mutate\n",
    "# Break, continue"
   ]
  },
  {
   "cell_type": "code",
   "execution_count": 10,
   "metadata": {},
   "outputs": [
    {
     "name": "stdout",
     "output_type": "stream",
     "text": [
      "[1] \"positive number\"\n",
      "[1] \"negative number\"\n",
      "[1] \"ZERO\"\n"
     ]
    }
   ],
   "source": [
    "x<- 5\n",
    "if(x>0){\n",
    "    print(\"positive number\")\n",
    "}\n",
    "\n",
    "x<- -3\n",
    "if(x<0){\n",
    "    print(\"negative number\")\n",
    "}else{\n",
    "    print(\"non negative number\")\n",
    "}\n",
    "\n",
    "\n",
    "x <- 0\n",
    "if(x>0){\n",
    "    print(\"positive no\")\n",
    "}else if(x<0){\n",
    "    print(\"negative no\")\n",
    "}else{\n",
    "    print(\"ZERO\")\n",
    "}"
   ]
  },
  {
   "cell_type": "code",
   "execution_count": 32,
   "metadata": {},
   "outputs": [
    {
     "name": "stdout",
     "output_type": "stream",
     "text": [
      "[1] \"odd\"  \"odd\"  \"even\" \"odd\" \n",
      "[1] \"positive\" \"negative\" \"positive\" \"positive\"\n"
     ]
    }
   ],
   "source": [
    "# On Vector\n",
    "# ifelse()\n",
    "\n",
    "a<- c(3,-7,6,9)\n",
    "x<- ifelse(a %% 2 == 0,\"even\",\"odd\")\n",
    "print(x)\n",
    "\n",
    "x1<- ifelse(a>0,\"positive\",\"negative\")\n",
    "print(x1)\n",
    "\n",
    "     "
   ]
  },
  {
   "cell_type": "code",
   "execution_count": null,
   "metadata": {},
   "outputs": [],
   "source": [
    "\n",
    "# the difference between if and ifelse:\n",
    "\n",
    "# if is a control flow statement, taking a single logical value as an argument\n",
    "# ifelse is a vectorised function, taking vectors as all its arguments."
   ]
  },
  {
   "cell_type": "code",
   "execution_count": 31,
   "metadata": {},
   "outputs": [
    {
     "name": "stderr",
     "output_type": "stream",
     "text": [
      "The following objects are masked from mtcars (pos = 3):\n",
      "\n",
      "    am, carb, cyl, disp, drat, gear, hp, mpg, qsec, vs, wt\n",
      "\n",
      "\n",
      "The following objects are masked from mtcars (pos = 4):\n",
      "\n",
      "    am, carb, cyl, disp, drat, gear, hp, mpg, qsec, vs, wt\n",
      "\n",
      "\n",
      "The following objects are masked from mtcars (pos = 5):\n",
      "\n",
      "    am, carb, cyl, disp, drat, gear, hp, mpg, qsec, vs, wt\n",
      "\n",
      "\n",
      "The following objects are masked from mtcars (pos = 7):\n",
      "\n",
      "    am, carb, cyl, disp, drat, gear, hp, mpg, qsec, vs, wt\n",
      "\n",
      "\n",
      "The following objects are masked from mtcars (pos = 8):\n",
      "\n",
      "    am, carb, cyl, disp, drat, gear, hp, mpg, qsec, vs, wt\n",
      "\n",
      "\n",
      "The following objects are masked from mtcars (pos = 9):\n",
      "\n",
      "    am, carb, cyl, disp, drat, gear, hp, mpg, qsec, vs, wt\n",
      "\n",
      "\n"
     ]
    },
    {
     "data": {
      "text/html": [
       "<table>\n",
       "<caption>A data.frame: 6 × 11</caption>\n",
       "<thead>\n",
       "\t<tr><th></th><th scope=col>mpg</th><th scope=col>cyl</th><th scope=col>disp</th><th scope=col>hp</th><th scope=col>drat</th><th scope=col>wt</th><th scope=col>qsec</th><th scope=col>vs</th><th scope=col>am</th><th scope=col>gear</th><th scope=col>carb</th></tr>\n",
       "\t<tr><th></th><th scope=col>&lt;dbl&gt;</th><th scope=col>&lt;dbl&gt;</th><th scope=col>&lt;dbl&gt;</th><th scope=col>&lt;dbl&gt;</th><th scope=col>&lt;dbl&gt;</th><th scope=col>&lt;dbl&gt;</th><th scope=col>&lt;dbl&gt;</th><th scope=col>&lt;dbl&gt;</th><th scope=col>&lt;dbl&gt;</th><th scope=col>&lt;dbl&gt;</th><th scope=col>&lt;dbl&gt;</th></tr>\n",
       "</thead>\n",
       "<tbody>\n",
       "\t<tr><th scope=row>Mazda RX4</th><td>21.0</td><td>6</td><td>160</td><td>110</td><td>3.90</td><td>2.620</td><td>16.46</td><td>0</td><td>1</td><td>4</td><td>4</td></tr>\n",
       "\t<tr><th scope=row>Mazda RX4 Wag</th><td>21.0</td><td>6</td><td>160</td><td>110</td><td>3.90</td><td>2.875</td><td>17.02</td><td>0</td><td>1</td><td>4</td><td>4</td></tr>\n",
       "\t<tr><th scope=row>Datsun 710</th><td>22.8</td><td>4</td><td>108</td><td> 93</td><td>3.85</td><td>2.320</td><td>18.61</td><td>1</td><td>1</td><td>4</td><td>1</td></tr>\n",
       "\t<tr><th scope=row>Hornet 4 Drive</th><td>21.4</td><td>6</td><td>258</td><td>110</td><td>3.08</td><td>3.215</td><td>19.44</td><td>1</td><td>0</td><td>3</td><td>1</td></tr>\n",
       "\t<tr><th scope=row>Hornet Sportabout</th><td>18.7</td><td>8</td><td>360</td><td>175</td><td>3.15</td><td>3.440</td><td>17.02</td><td>0</td><td>0</td><td>3</td><td>2</td></tr>\n",
       "\t<tr><th scope=row>Valiant</th><td>18.1</td><td>6</td><td>225</td><td>105</td><td>2.76</td><td>3.460</td><td>20.22</td><td>1</td><td>0</td><td>3</td><td>1</td></tr>\n",
       "</tbody>\n",
       "</table>\n"
      ],
      "text/latex": [
       "A data.frame: 6 × 11\n",
       "\\begin{tabular}{r|lllllllllll}\n",
       "  & mpg & cyl & disp & hp & drat & wt & qsec & vs & am & gear & carb\\\\\n",
       "  & <dbl> & <dbl> & <dbl> & <dbl> & <dbl> & <dbl> & <dbl> & <dbl> & <dbl> & <dbl> & <dbl>\\\\\n",
       "\\hline\n",
       "\tMazda RX4 & 21.0 & 6 & 160 & 110 & 3.90 & 2.620 & 16.46 & 0 & 1 & 4 & 4\\\\\n",
       "\tMazda RX4 Wag & 21.0 & 6 & 160 & 110 & 3.90 & 2.875 & 17.02 & 0 & 1 & 4 & 4\\\\\n",
       "\tDatsun 710 & 22.8 & 4 & 108 &  93 & 3.85 & 2.320 & 18.61 & 1 & 1 & 4 & 1\\\\\n",
       "\tHornet 4 Drive & 21.4 & 6 & 258 & 110 & 3.08 & 3.215 & 19.44 & 1 & 0 & 3 & 1\\\\\n",
       "\tHornet Sportabout & 18.7 & 8 & 360 & 175 & 3.15 & 3.440 & 17.02 & 0 & 0 & 3 & 2\\\\\n",
       "\tValiant & 18.1 & 6 & 225 & 105 & 2.76 & 3.460 & 20.22 & 1 & 0 & 3 & 1\\\\\n",
       "\\end{tabular}\n"
      ],
      "text/markdown": [
       "\n",
       "A data.frame: 6 × 11\n",
       "\n",
       "| <!--/--> | mpg &lt;dbl&gt; | cyl &lt;dbl&gt; | disp &lt;dbl&gt; | hp &lt;dbl&gt; | drat &lt;dbl&gt; | wt &lt;dbl&gt; | qsec &lt;dbl&gt; | vs &lt;dbl&gt; | am &lt;dbl&gt; | gear &lt;dbl&gt; | carb &lt;dbl&gt; |\n",
       "|---|---|---|---|---|---|---|---|---|---|---|---|\n",
       "| Mazda RX4 | 21.0 | 6 | 160 | 110 | 3.90 | 2.620 | 16.46 | 0 | 1 | 4 | 4 |\n",
       "| Mazda RX4 Wag | 21.0 | 6 | 160 | 110 | 3.90 | 2.875 | 17.02 | 0 | 1 | 4 | 4 |\n",
       "| Datsun 710 | 22.8 | 4 | 108 |  93 | 3.85 | 2.320 | 18.61 | 1 | 1 | 4 | 1 |\n",
       "| Hornet 4 Drive | 21.4 | 6 | 258 | 110 | 3.08 | 3.215 | 19.44 | 1 | 0 | 3 | 1 |\n",
       "| Hornet Sportabout | 18.7 | 8 | 360 | 175 | 3.15 | 3.440 | 17.02 | 0 | 0 | 3 | 2 |\n",
       "| Valiant | 18.1 | 6 | 225 | 105 | 2.76 | 3.460 | 20.22 | 1 | 0 | 3 | 1 |\n",
       "\n"
      ],
      "text/plain": [
       "                  mpg  cyl disp hp  drat wt    qsec  vs am gear carb\n",
       "Mazda RX4         21.0 6   160  110 3.90 2.620 16.46 0  1  4    4   \n",
       "Mazda RX4 Wag     21.0 6   160  110 3.90 2.875 17.02 0  1  4    4   \n",
       "Datsun 710        22.8 4   108   93 3.85 2.320 18.61 1  1  4    1   \n",
       "Hornet 4 Drive    21.4 6   258  110 3.08 3.215 19.44 1  0  3    1   \n",
       "Hornet Sportabout 18.7 8   360  175 3.15 3.440 17.02 0  0  3    2   \n",
       "Valiant           18.1 6   225  105 2.76 3.460 20.22 1  0  3    1   "
      ]
     },
     "metadata": {},
     "output_type": "display_data"
    },
    {
     "name": "stdout",
     "output_type": "stream",
     "text": [
      "   mpg cyl disp  hp drat    wt  qsec vs am gear carb pass_fail\n",
      "1 21.0   6  160 110 3.90 2.620 16.46  0  1    4    4      pass\n",
      "2 21.0   6  160 110 3.90 2.875 17.02  0  1    4    4      pass\n",
      "3 22.8   4  108  93 3.85 2.320 18.61  1  1    4    1      pass\n",
      "4 21.4   6  258 110 3.08 3.215 19.44  1  0    3    1      fail\n",
      "5 18.7   8  360 175 3.15 3.440 17.02  0  0    3    2      fail\n",
      "6 18.1   6  225 105 2.76 3.460 20.22  1  0    3    1      fail\n"
     ]
    }
   ],
   "source": [
    "# mutate\n",
    "\n",
    "attach(mtcars)\n",
    "head(mtcars)\n",
    "library(dplyr)\n",
    "x_mutate <- mutate(mtcars, pass_fail= ifelse(gear==4,\"pass\",\"fail\"))\n",
    "print(head(x_mutate))\n",
    "          "
   ]
  },
  {
   "cell_type": "code",
   "execution_count": 36,
   "metadata": {},
   "outputs": [
    {
     "name": "stdout",
     "output_type": "stream",
     "text": [
      "   mpg cyl disp  hp drat    wt  qsec vs am gear carb car.grade\n",
      "1 21.0   6  160 110 3.90 2.620 16.46  0  1    4    4   grade B\n",
      "2 21.0   6  160 110 3.90 2.875 17.02  0  1    4    4   grade B\n",
      "3 22.8   4  108  93 3.85 2.320 18.61  1  1    4    1   grade A\n",
      "4 21.4   6  258 110 3.08 3.215 19.44  1  0    3    1   grade B\n",
      "5 18.7   8  360 175 3.15 3.440 17.02  0  0    3    2   grade C\n",
      "6 18.1   6  225 105 2.76 3.460 20.22  1  0    3    1   grade B\n"
     ]
    }
   ],
   "source": [
    "new1<- mutate(mtcars, car.grade = ifelse(cyl==4,\"grade A\",\n",
    "                                  ifelse(cyl==6,\"grade B\",\n",
    "                                  ifelse(cyl==8,\"grade C\",\"c\"))))\n",
    "print(head(new1))\n",
    "    "
   ]
  },
  {
   "cell_type": "code",
   "execution_count": 41,
   "metadata": {},
   "outputs": [
    {
     "name": "stdout",
     "output_type": "stream",
     "text": [
      "[1] 5\n",
      "[1] 6\n",
      "[1] 7\n",
      "[1] 9\n",
      "[1] 8\n",
      "text 5 \n",
      "text 6 \n",
      "text 7 \n",
      "text 9 \n",
      "text 8 \n"
     ]
    }
   ],
   "source": [
    "#for\n",
    "\n",
    "x<- c(5,6,7,9,8)\n",
    "for(val in x){\n",
    "    print(val)\n",
    "}\n",
    "\n",
    "xvector<- c(4,8,7,9)\n",
    "for(val in x){\n",
    "    cat(\"text\",val,\"\\n\")\n",
    "}"
   ]
  },
  {
   "cell_type": "code",
   "execution_count": 42,
   "metadata": {},
   "outputs": [
    {
     "name": "stdout",
     "output_type": "stream",
     "text": [
      "[1] \"b\"\n",
      "[1] \"b\"\n",
      "[1] \"c\"\n",
      "[1] \"a\"\n",
      "[1] \"a\"\n"
     ]
    }
   ],
   "source": [
    "\n",
    "## FOR  and IF\n",
    "\n",
    "xvector <- c(2,5,3,9,8,11,6)\n",
    "\n",
    "\n",
    "for(val in x){\n",
    "    if(val>7){\n",
    "        print(\"a\")\n",
    "    }else if(val<7){\n",
    "        print(\"b\")\n",
    "    }else{\n",
    "        print(\"c\")\n",
    "    }\n",
    "}"
   ]
  },
  {
   "cell_type": "code",
   "execution_count": 44,
   "metadata": {},
   "outputs": [
    {
     "name": "stdout",
     "output_type": "stream",
     "text": [
      "[1] 1\n",
      "[1] 2\n",
      "[1] 3\n",
      "[1] 4\n",
      "[1] 5\n",
      "[1] 6\n",
      "[1] 7\n",
      "[1] 8\n"
     ]
    }
   ],
   "source": [
    "#factorial\n",
    "\n",
    "num= 8\n",
    "fact=1\n",
    "for(i in 1:8){\n",
    "    fact= fact*i\n",
    "    print(i)\n",
    "        \n",
    "}"
   ]
  },
  {
   "cell_type": "code",
   "execution_count": 46,
   "metadata": {},
   "outputs": [
    {
     "name": "stdout",
     "output_type": "stream",
     "text": [
      "[1] \"the factorial of 5 is 120\"\n"
     ]
    }
   ],
   "source": [
    "num = 5\n",
    "fact= 1\n",
    "if(num<0){\n",
    "    print(\"the factorial of the num doesnt exist\")\n",
    "}else if(num == 0){\n",
    "    print(\"the factorial of zero is zero\")\n",
    "}else{\n",
    "    for(i in 1:5){\n",
    "        fact=fact*i\n",
    "    }\n",
    "    print(paste(\"the factorial of\",num,\"is\",fact))\n",
    "}"
   ]
  },
  {
   "cell_type": "code",
   "execution_count": 48,
   "metadata": {},
   "outputs": [
    {
     "name": "stdout",
     "output_type": "stream",
     "text": [
      "[1] 5\n",
      "[1] 6\n",
      "[1] 7\n"
     ]
    }
   ],
   "source": [
    "#while\n",
    "\n",
    "cnt<- 5\n",
    "while(cnt <= 7){\n",
    "    print(cnt)\n",
    "    cnt= cnt+1\n",
    "}"
   ]
  },
  {
   "cell_type": "code",
   "execution_count": 50,
   "metadata": {},
   "outputs": [
    {
     "name": "stdout",
     "output_type": "stream",
     "text": [
      "[1] 1\n",
      "[1] 2\n",
      "[1] 3\n",
      "[1] 5\n",
      "[1] 8\n",
      "[1] 13\n"
     ]
    }
   ],
   "source": [
    "#fibonacci_series\n",
    "\n",
    "num1= 0\n",
    "num2= 1\n",
    "count= 2\n",
    "nth_term=7\n",
    "while(count<=nth_term){\n",
    "    nth= num1+num2\n",
    "    print(nth)\n",
    "    #updated values\n",
    "    num1= num2\n",
    "    num2= nth\n",
    "    count= count + 1\n",
    "}"
   ]
  },
  {
   "cell_type": "code",
   "execution_count": 54,
   "metadata": {},
   "outputs": [
    {
     "name": "stdout",
     "output_type": "stream",
     "text": [
      "[1] \"the count 1 = 66\"\n",
      "[1] \"the count 2 = 66\"\n",
      "[1] \"the count 3 = 66\"\n",
      "[1] \"the count 4 = 66\"\n",
      "[1] \"the count 5 = 66\"\n"
     ]
    }
   ],
   "source": [
    "#break\n",
    "\n",
    "v = c(66)\n",
    "cnt<- 1\n",
    "repeat{\n",
    "    print(paste(\"the count\",cnt,\"=\",v))\n",
    "    cnt= cnt + 1\n",
    "    if(cnt>5){\n",
    "        break\n",
    "    }\n",
    "}\n"
   ]
  },
  {
   "cell_type": "code",
   "execution_count": 57,
   "metadata": {},
   "outputs": [
    {
     "name": "stdout",
     "output_type": "stream",
     "text": [
      "[1] \"A\"\n",
      "[1] \"B\"\n",
      "[1] \"C\"\n",
      "[1] \"E\"\n",
      "[1] \"F\"\n",
      "[1] \"G\"\n"
     ]
    }
   ],
   "source": [
    "B <- LETTERS[1:7]\n",
    "\n",
    "for(i in B){\n",
    "    if(i == \"D\"){\n",
    "        next\n",
    "    }\n",
    "    print(i)\n",
    "          \n",
    "}"
   ]
  },
  {
   "cell_type": "code",
   "execution_count": 61,
   "metadata": {},
   "outputs": [
    {
     "data": {
      "text/html": [
       "<table>\n",
       "<caption>A data.frame: 4 × 4</caption>\n",
       "<thead>\n",
       "\t<tr><th scope=col>subject</th><th scope=col>marks</th><th scope=col>students</th><th scope=col>pass.fail</th></tr>\n",
       "\t<tr><th scope=col>&lt;chr&gt;</th><th scope=col>&lt;dbl&gt;</th><th scope=col>&lt;chr&gt;</th><th scope=col>&lt;chr&gt;</th></tr>\n",
       "</thead>\n",
       "<tbody>\n",
       "\t<tr><td>cs     </td><td>77</td><td>ravi </td><td>pass</td></tr>\n",
       "\t<tr><td>science</td><td>58</td><td>kiran</td><td>fail</td></tr>\n",
       "\t<tr><td>maths  </td><td>95</td><td>rahul</td><td>pass</td></tr>\n",
       "\t<tr><td>chem   </td><td>45</td><td>jyoti</td><td>fail</td></tr>\n",
       "</tbody>\n",
       "</table>\n"
      ],
      "text/latex": [
       "A data.frame: 4 × 4\n",
       "\\begin{tabular}{llll}\n",
       " subject & marks & students & pass.fail\\\\\n",
       " <chr> & <dbl> & <chr> & <chr>\\\\\n",
       "\\hline\n",
       "\t cs      & 77 & ravi  & pass\\\\\n",
       "\t science & 58 & kiran & fail\\\\\n",
       "\t maths   & 95 & rahul & pass\\\\\n",
       "\t chem    & 45 & jyoti & fail\\\\\n",
       "\\end{tabular}\n"
      ],
      "text/markdown": [
       "\n",
       "A data.frame: 4 × 4\n",
       "\n",
       "| subject &lt;chr&gt; | marks &lt;dbl&gt; | students &lt;chr&gt; | pass.fail &lt;chr&gt; |\n",
       "|---|---|---|---|\n",
       "| cs      | 77 | ravi  | pass |\n",
       "| science | 58 | kiran | fail |\n",
       "| maths   | 95 | rahul | pass |\n",
       "| chem    | 45 | jyoti | fail |\n",
       "\n"
      ],
      "text/plain": [
       "  subject marks students pass.fail\n",
       "1 cs      77    ravi     pass     \n",
       "2 science 58    kiran    fail     \n",
       "3 maths   95    rahul    pass     \n",
       "4 chem    45    jyoti    fail     "
      ]
     },
     "metadata": {},
     "output_type": "display_data"
    }
   ],
   "source": [
    "subject<- c(\"cs\",\"science\",\"maths\",\"chem\")\n",
    "marks<- c(77,58,95,45)\n",
    "students<- c(\"ravi\",\"kiran\",\"rahul\",\"jyoti\")\n",
    "gradebook<- data.frame(subject,marks,students)\n",
    "mutate(gradebook,pass.fail= ifelse(marks>60,\"pass\",\"fail\"))"
   ]
  },
  {
   "cell_type": "code",
   "execution_count": 64,
   "metadata": {},
   "outputs": [
    {
     "name": "stdout",
     "output_type": "stream",
     "text": [
      "[1] \"blue\"\n",
      "[1] \"blue\"\n"
     ]
    }
   ],
   "source": [
    "#switch\n",
    "\n",
    "x<- switch(2,\"red\",\"blue\",\"green\")\n",
    "print(x)\n",
    "\n",
    "x <- switch(3,\"red\",\"green\",\"blue\")\n",
    "print(x)"
   ]
  },
  {
   "cell_type": "code",
   "execution_count": 71,
   "metadata": {},
   "outputs": [
    {
     "name": "stdout",
     "output_type": "stream",
     "text": [
      "[1] \"Select operation.\"\n",
      "[1] \"1.Add\"\n",
      "[1] \"2.Subtract\"\n",
      "[1] \"3.Multiply\"\n",
      "[1] \"4.Divide\"\n",
      "[1] \"8 / 10 = 0.8\"\n"
     ]
    }
   ],
   "source": [
    "## switch Functions also\n",
    "\n",
    "# Program make a simple calculator that can add, subtract, multiply and divide using functions\n",
    "add <- function(x, y) {\n",
    "  return(x + y)\n",
    "}\n",
    "\n",
    "subtract <- function(x, y) {\n",
    "  return(x - y)\n",
    "}\n",
    "\n",
    "multiply <- function(x, y) {\n",
    "  return(x * y)\n",
    "}\n",
    "\n",
    "divide <- function(x, y) {\n",
    "  return(x / y)\n",
    "}\n",
    "\n",
    "# take input from the user\n",
    "print(\"Select operation.\")\n",
    "print(\"1.Add\")\n",
    "print(\"2.Subtract\")\n",
    "print(\"3.Multiply\")\n",
    "print(\"4.Divide\")\n",
    "\n",
    "choice= 4\n",
    "num1= 8\n",
    "num2=10\n",
    "\n",
    "operator<- switch(choice,\"+\",\"-\",\"*\",\"/\")\n",
    "\n",
    "result<- switch(choice,add(num1,num2),subtract(num1,num2),multiply(num1,num2),divide(num1,num2))\n",
    "print(paste(num1,operator,num2,\"=\",result))\n"
   ]
  },
  {
   "cell_type": "code",
   "execution_count": 73,
   "metadata": {},
   "outputs": [],
   "source": [
    "#done"
   ]
  }
 ],
 "metadata": {
  "kernelspec": {
   "display_name": "R",
   "language": "R",
   "name": "ir"
  },
  "language_info": {
   "codemirror_mode": "r",
   "file_extension": ".r",
   "mimetype": "text/x-r-source",
   "name": "R",
   "pygments_lexer": "r",
   "version": "4.0.0"
  }
 },
 "nbformat": 4,
 "nbformat_minor": 4
}
