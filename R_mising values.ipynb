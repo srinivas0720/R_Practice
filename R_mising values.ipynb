{
 "cells": [
  {
   "cell_type": "code",
   "execution_count": 5,
   "metadata": {},
   "outputs": [
    {
     "name": "stdout",
     "output_type": "stream",
     "text": [
      "   name   sex age\n",
      "1 karan   men  23\n",
      "2 kirti women  35\n",
      "3    kp   men  19\n",
      "4  <NA>   men  NA\n",
      "5 mansi women  29\n"
     ]
    }
   ],
   "source": [
    "\n",
    "# R Missing values\n",
    "# In R the missing values are coded by the symbol NA\n",
    "\n",
    "\n",
    "name<- c(\"karan\",\"kirti\",\"kp\",NA,\"mansi\")\n",
    "age<- c(23,35,19,NA,29)\n",
    "sex<- c(\"men\",\"women\",\"men\",\"men\",\"women\")\n",
    "info<- data.frame(name,sex,age)\n",
    "print(info)\n"
   ]
  },
  {
   "cell_type": "code",
   "execution_count": 6,
   "metadata": {},
   "outputs": [
    {
     "data": {
      "text/html": [
       "<table>\n",
       "<caption>A matrix: 5 × 3 of type lgl</caption>\n",
       "<thead>\n",
       "\t<tr><th scope=col>name</th><th scope=col>sex</th><th scope=col>age</th></tr>\n",
       "</thead>\n",
       "<tbody>\n",
       "\t<tr><td>FALSE</td><td>FALSE</td><td>FALSE</td></tr>\n",
       "\t<tr><td>FALSE</td><td>FALSE</td><td>FALSE</td></tr>\n",
       "\t<tr><td>FALSE</td><td>FALSE</td><td>FALSE</td></tr>\n",
       "\t<tr><td> TRUE</td><td>FALSE</td><td> TRUE</td></tr>\n",
       "\t<tr><td>FALSE</td><td>FALSE</td><td>FALSE</td></tr>\n",
       "</tbody>\n",
       "</table>\n"
      ],
      "text/latex": [
       "A matrix: 5 × 3 of type lgl\n",
       "\\begin{tabular}{lll}\n",
       " name & sex & age\\\\\n",
       "\\hline\n",
       "\t FALSE & FALSE & FALSE\\\\\n",
       "\t FALSE & FALSE & FALSE\\\\\n",
       "\t FALSE & FALSE & FALSE\\\\\n",
       "\t  TRUE & FALSE &  TRUE\\\\\n",
       "\t FALSE & FALSE & FALSE\\\\\n",
       "\\end{tabular}\n"
      ],
      "text/markdown": [
       "\n",
       "A matrix: 5 × 3 of type lgl\n",
       "\n",
       "| name | sex | age |\n",
       "|---|---|---|\n",
       "| FALSE | FALSE | FALSE |\n",
       "| FALSE | FALSE | FALSE |\n",
       "| FALSE | FALSE | FALSE |\n",
       "|  TRUE | FALSE |  TRUE |\n",
       "| FALSE | FALSE | FALSE |\n",
       "\n"
      ],
      "text/plain": [
       "     name  sex   age  \n",
       "[1,] FALSE FALSE FALSE\n",
       "[2,] FALSE FALSE FALSE\n",
       "[3,] FALSE FALSE FALSE\n",
       "[4,]  TRUE FALSE  TRUE\n",
       "[5,] FALSE FALSE FALSE"
      ]
     },
     "metadata": {},
     "output_type": "display_data"
    }
   ],
   "source": [
    "is.na(info)"
   ]
  },
  {
   "cell_type": "code",
   "execution_count": 8,
   "metadata": {},
   "outputs": [
    {
     "data": {
      "text/html": [
       "2"
      ],
      "text/latex": [
       "2"
      ],
      "text/markdown": [
       "2"
      ],
      "text/plain": [
       "[1] 2"
      ]
     },
     "metadata": {},
     "output_type": "display_data"
    },
    {
     "data": {
      "text/html": [
       "0.133333333333333"
      ],
      "text/latex": [
       "0.133333333333333"
      ],
      "text/markdown": [
       "0.133333333333333"
      ],
      "text/plain": [
       "[1] 0.1333333"
      ]
     },
     "metadata": {},
     "output_type": "display_data"
    }
   ],
   "source": [
    "# how much and how many are missing\n",
    "\n",
    "sum(is.na(info))\n",
    "mean(is.na(info))"
   ]
  },
  {
   "cell_type": "code",
   "execution_count": 10,
   "metadata": {},
   "outputs": [
    {
     "name": "stdout",
     "output_type": "stream",
     "text": [
      "   name   sex age\n",
      "1 karan   men  23\n",
      "2 kirti women  35\n",
      "3    kp   men  19\n",
      "5 mansi women  29\n"
     ]
    }
   ],
   "source": [
    "new_data<- na.omit(info)   # only cleaned data\n",
    "print(new_data)\n"
   ]
  },
  {
   "cell_type": "code",
   "execution_count": 12,
   "metadata": {},
   "outputs": [
    {
     "name": "stdout",
     "output_type": "stream",
     "text": [
      "  name sex age\n",
      "4 <NA> men  NA\n"
     ]
    }
   ],
   "source": [
    "# list rows of data that have missing values \n",
    "\n",
    "print(info[!complete.cases(info),])"
   ]
  },
  {
   "cell_type": "code",
   "execution_count": 17,
   "metadata": {},
   "outputs": [
    {
     "name": "stdout",
     "output_type": "stream",
     "text": [
      "[1] NA\n",
      "[1] 26.5\n"
     ]
    }
   ],
   "source": [
    "x<- info$age\n",
    "print(mean(x))   #gives NA\n",
    "print(mean(x, na.rm= TRUE))"
   ]
  }
 ],
 "metadata": {
  "kernelspec": {
   "display_name": "R",
   "language": "R",
   "name": "ir"
  },
  "language_info": {
   "codemirror_mode": "r",
   "file_extension": ".r",
   "mimetype": "text/x-r-source",
   "name": "R",
   "pygments_lexer": "r",
   "version": "4.0.0"
  }
 },
 "nbformat": 4,
 "nbformat_minor": 4
}
