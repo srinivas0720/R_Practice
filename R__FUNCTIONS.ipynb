{
 "cells": [
  {
   "cell_type": "code",
   "execution_count": 28,
   "metadata": {},
   "outputs": [
    {
     "name": "stdout",
     "output_type": "stream",
     "text": [
      "[1] \"4 raised to the power 4 is 256\"\n"
     ]
    }
   ],
   "source": [
    "# function to print x raised to the power y\n",
    "\n",
    "pow <- function(x,y){\n",
    "    result= x^y\n",
    "    print(paste(x,\"raised to the power\",y,\"is\",result))\n",
    "}\n",
    "pow(4,4)"
   ]
  },
  {
   "cell_type": "code",
   "execution_count": 6,
   "metadata": {},
   "outputs": [
    {
     "data": {
      "text/html": [
       "'5 raised to the power 8 is 390625'"
      ],
      "text/latex": [
       "'5 raised to the power 8 is 390625'"
      ],
      "text/markdown": [
       "'5 raised to the power 8 is 390625'"
      ],
      "text/plain": [
       "[1] \"5 raised to the power 8 is 390625\""
      ]
     },
     "metadata": {},
     "output_type": "display_data"
    }
   ],
   "source": [
    "#return is imp\n",
    "\n",
    "pow <- function(x,y){\n",
    "    result= x^y\n",
    "    result.out= paste(x,\"raised to the power\",y,\"is\",result)\n",
    "    return(result.out)\n",
    "}\n",
    "pow(5,8)"
   ]
  },
  {
   "cell_type": "code",
   "execution_count": 24,
   "metadata": {},
   "outputs": [
    {
     "name": "stdout",
     "output_type": "stream",
     "text": [
      "[1] 1 2 3 4 5 6 7\n"
     ]
    }
   ],
   "source": [
    "#tabcal\n",
    "\n",
    "tabcal <- function(x, y) {\n",
    "  result <- x*y\n",
    "  print(result)\n",
    "}\n",
    "tabcal(1,1:7)\n",
    "\n",
    "# for new line, use  - cat\n",
    "# Calling any function"
   ]
  },
  {
   "cell_type": "code",
   "execution_count": 19,
   "metadata": {},
   "outputs": [
    {
     "data": {
      "text/html": [
       "'5 raised to the power 4 is 625'"
      ],
      "text/latex": [
       "'5 raised to the power 4 is 625'"
      ],
      "text/markdown": [
       "'5 raised to the power 4 is 625'"
      ],
      "text/plain": [
       "[1] \"5 raised to the power 4 is 625\""
      ]
     },
     "metadata": {},
     "output_type": "display_data"
    }
   ],
   "source": [
    "#default value\n",
    "\n",
    "pow<- function(x,y=4){\n",
    "    result<- x^y\n",
    "    final.out= paste(x,\"raised to the power\",y,\"is\", result)\n",
    "    return(final.out)\n",
    "        \n",
    "}\n",
    "pow(5)"
   ]
  },
  {
   "cell_type": "code",
   "execution_count": 21,
   "metadata": {},
   "outputs": [
    {
     "name": "stdout",
     "output_type": "stream",
     "text": [
      "[1] 16\n",
      "[1] 4\n"
     ]
    },
    {
     "ename": "ERROR",
     "evalue": "Error in print(b): argument \"b\" is missing, with no default\n",
     "output_type": "error",
     "traceback": [
      "Error in print(b): argument \"b\" is missing, with no default\nTraceback:\n",
      "1. le(4)",
      "2. print(b)   # at line 8 of file <text>"
     ]
    }
   ],
   "source": [
    "## Lazy Evaluation\n",
    "# Lazy Evaluation\n",
    "# Evaluate the function without supplying one of the arguments.\n",
    "\n",
    "le<- function(a,b){\n",
    "    print(a^2)\n",
    "    print(a)\n",
    "    print(b)\n",
    "}\n",
    "le(4)"
   ]
  },
  {
   "cell_type": "code",
   "execution_count": 32,
   "metadata": {},
   "outputs": [
    {
     "name": "stdout",
     "output_type": "stream",
     "text": [
      "[1] 4\n",
      "[1] 2\n",
      "[1] 2\n",
      " [1]  1  2  3  4  5  6  7  8  9 10\n"
     ]
    }
   ],
   "source": [
    "# from another source or file\n",
    "\n",
    "# source(\"functions1.R\")\n",
    "\n",
    "le(2,2)\n",
    "tabcal(1,1:10)\n"
   ]
  },
  {
   "cell_type": "code",
   "execution_count": 56,
   "metadata": {},
   "outputs": [
    {
     "name": "stdout",
     "output_type": "stream",
     "text": [
      "[1] 280.3722\n"
     ]
    }
   ],
   "source": [
    "#set.seed(seed)\n",
    "#Set the seed of R‘s random number generator, which is useful for creating simulations or random objects that can be reproduced.\n",
    "\n",
    "#set.seed(5)\n",
    "#rnorm(5)\n",
    "\n",
    "#rnorm.\n",
    "# X generates multivariate normal random variates in the space X.\n",
    "# 1\n",
    "\n",
    "\n",
    "\n",
    "fahrenheit_to_kelvin <- function(tempf){\n",
    "    temp_k = ((tempf-32)* (5/9)+ 273.15)\n",
    "             return(temp_k)\n",
    "    \n",
    "    \n",
    "} \n",
    "\n",
    "temp = fahrenheit_to_kelvin(45)\n",
    "print(temp)"
   ]
  },
  {
   "cell_type": "code",
   "execution_count": null,
   "metadata": {},
   "outputs": [],
   "source": [
    "#done"
   ]
  }
 ],
 "metadata": {
  "kernelspec": {
   "display_name": "R",
   "language": "R",
   "name": "ir"
  },
  "language_info": {
   "codemirror_mode": "r",
   "file_extension": ".r",
   "mimetype": "text/x-r-source",
   "name": "R",
   "pygments_lexer": "r",
   "version": "4.0.0"
  }
 },
 "nbformat": 4,
 "nbformat_minor": 4
}
